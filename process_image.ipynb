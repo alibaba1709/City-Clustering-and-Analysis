{
 "cells": [
  {
   "cell_type": "code",
   "execution_count": 1,
   "id": "e6559141-418c-44a2-a6dc-42441e399e89",
   "metadata": {},
   "outputs": [],
   "source": [
    "#importing necessary libraries\n",
    "import numpy as np\n",
    "import matplotlib.pyplot as plt\n",
    "from PIL import Image\n",
    "import pandas as pd"
   ]
  },
  {
   "cell_type": "markdown",
   "id": "75675331-9b4c-4a8a-8a68-a742eeee6a7c",
   "metadata": {},
   "source": [
    "Loading the Image and Extracting Light Coordinates:\n",
    "\n",
    "- The image is loaded\n",
    "- The coordinates of the illuminated pixels (above a certain threshold) are extracted.\n"
   ]
  },
  {
   "cell_type": "code",
   "execution_count": 2,
   "id": "2867e59c-b17f-496d-993a-e77d74541f9e",
   "metadata": {},
   "outputs": [],
   "source": [
    "def load_image(image_address):\n",
    "    # Load the image and extract coordinates of lights\n",
    "    image = Image.open(image_address).convert('L')\n",
    "    \n",
    "    image_array = np.array(image)\n",
    "    threshold = 200\n",
    "    light_coordinates = np.argwhere(image_array > threshold)\n",
    "    return light_coordinates"
   ]
  },
  {
   "cell_type": "markdown",
   "id": "45afb5a8-1cf1-48b8-9f73-e00abbb4b9b7",
   "metadata": {},
   "source": [
    "Now we have to create a function to apply K-means clustering which:\n",
    "- Randomly initialize centroids.\n",
    "- Iteratively assign points to the nearest centroid and update centroids until convergence or the maximum number of iterations (set to 100) is reached."
   ]
  },
  {
   "cell_type": "code",
   "execution_count": 3,
   "id": "8faf9a3f-58da-4deb-877a-0523cdad78a3",
   "metadata": {},
   "outputs": [],
   "source": [
    "# Implementing K-Means Clustering\n",
    "def k_means(points, k, max_iters=100):\n",
    "    np.random.seed(0)\n",
    "    centroids = points[np.random.choice(points.shape[0], k, replace=False)]\n",
    "    for _ in range(max_iters):\n",
    "        distances = np.linalg.norm(points[:, np.newaxis] - centroids, axis=2)\n",
    "        labels = np.argmin(distances, axis=1)\n",
    "        new_centroids = np.array([points[labels == i].mean(axis=0) for i in range(k)])\n",
    "        if np.all(centroids == new_centroids):\n",
    "             break\n",
    "        centroids = new_centroids\n",
    "    return labels, centroids"
   ]
  },
  {
   "cell_type": "markdown",
   "id": "f0eb9fc3-e107-4b48-a827-fa4af35f59e0",
   "metadata": {},
   "source": [
    "Now let us create a function to compute the sum of squared distances between points and their assigned centroids."
   ]
  },
  {
   "cell_type": "code",
   "execution_count": 4,
   "id": "fb4cdc8b-1956-4c4a-8dc8-cfac3f20f04d",
   "metadata": {},
   "outputs": [],
   "source": [
    "def calculate_ssd(points, labels, centroids):\n",
    "    ssd = 0\n",
    "    for i in range(len(centroids)):\n",
    "        cluster_points = points[labels == i]\n",
    "        ssd += np.sum((cluster_points - centroids[i]) ** 2)\n",
    "    return ssd"
   ]
  },
  {
   "cell_type": "markdown",
   "id": "577ce5cc-eb72-4d59-972e-f37ea8b11bf6",
   "metadata": {},
   "source": [
    "Now create a list which stores the SSDs corresponding to values of K from 1 to 10."
   ]
  },
  {
   "cell_type": "code",
   "execution_count": 5,
   "id": "b5905747-e7b7-45c1-94de-bd4c18f8c8c7",
   "metadata": {},
   "outputs": [],
   "source": [
    "def create_ssds_list(light_coordinates):\n",
    "    ssds = []\n",
    "    K = range(1, 11)\n",
    "    for k in K:\n",
    "        labels, centroids = k_means(light_coordinates, k)\n",
    "        ssd = calculate_ssd(light_coordinates, labels, centroids)\n",
    "        ssds.append(ssd)\n",
    "    return ssds"
   ]
  },
  {
   "cell_type": "markdown",
   "id": "a304cfac-3277-4177-be60-48faec335a83",
   "metadata": {},
   "source": [
    "Now let us create a function to plot SSDs vs k (so that we can visualise the elbow point) "
   ]
  },
  {
   "cell_type": "code",
   "execution_count": 6,
   "id": "9bb984a8-cbed-4d1d-881f-e382f9ef856e",
   "metadata": {},
   "outputs": [],
   "source": [
    "# Plot the SSDs for different values of k\n",
    "def plot(K,ssds):\n",
    "    plt.plot(K, ssds, 'bx-')\n",
    "    plt.xlabel('Number of clusters (k)')\n",
    "    plt.ylabel('Sum of squared distances (SSD)')\n",
    "    plt.title(f'Elbow Method For Optimal k')\n",
    "    plt.show()\n"
   ]
  },
  {
   "cell_type": "markdown",
   "id": "39fabd47-7b75-4a7c-9bac-7f5d76f586b1",
   "metadata": {},
   "source": [
    "Now to calculate the value of k at which elbow formation occurs, we will find the point in the plot which is farthest from the line joining the first and last point. For this task, we will create a function find_elbow_point."
   ]
  },
  {
   "cell_type": "code",
   "execution_count": 7,
   "id": "0e1bcb31-d512-403f-bff0-614961cd65ea",
   "metadata": {},
   "outputs": [],
   "source": [
    "# Automatic detection of the elbow point\n",
    "def find_elbow_point(ssds):\n",
    "    n_points = len(ssds)\n",
    "    k_values = [i for i in range(n_points)]\n",
    "    ssd_values = ssds\n",
    "    \n",
    "    all_coords = np.zeros((n_points, 2))\n",
    "    for i in range(n_points):\n",
    "        all_coords[i, 0] = k_values[i]\n",
    "        all_coords[i, 1] = ssd_values[i]\n",
    "        \n",
    "    first_point = all_coords[0]\n",
    "    last_point = all_coords[-1]\n",
    "    line_vec = last_point - first_point\n",
    "    line_vec_norm = line_vec / np.linalg.norm(line_vec)\n",
    "    vec_from_first = all_coords - first_point\n",
    "    scalar_product = np.dot(vec_from_first, line_vec_norm)\n",
    "    vec_from_first_parallel = np.outer(scalar_product, line_vec_norm)\n",
    "    vec_to_line = vec_from_first - vec_from_first_parallel\n",
    "    distances_to_line = np.linalg.norm(vec_to_line, axis=1)\n",
    "    elbow_index = np.argmax(distances_to_line)\n",
    "    return elbow_index+1;"
   ]
  },
  {
   "cell_type": "markdown",
   "id": "28361a3d-c2ab-43e9-96a8-137341b14d71",
   "metadata": {},
   "source": [
    "To display the clustered cities in different colours, we will use the matplotlib library."
   ]
  },
  {
   "cell_type": "code",
   "execution_count": 8,
   "id": "b5b160ae-74c2-413e-b9c8-2ee472c6fbcd",
   "metadata": {},
   "outputs": [],
   "source": [
    "def plot_clusters(points, labels, centroids, k):\n",
    "    plt.figure(figsize=(6,6))\n",
    "    colors = plt.colormaps['tab10'](np.linspace(0, 1, k))\n",
    "    for i in range(k):\n",
    "        cluster_points = points[labels == i]\n",
    "        plt.scatter(cluster_points[:, 1], cluster_points[:, 0], s=10, color=colors[i], label=f'City_{i+1}')\n",
    "    plt.scatter(centroids[:, 1], centroids[:, 0], s=80, c='black', marker='X', label='Centroids')\n",
    "    plt.legend()\n",
    "    plt.gca().invert_yaxis()\n",
    "    plt.title(f'Clustered Cities from Night-Time Satellite Image')\n",
    "    plt.show()\n",
    "    \n"
   ]
  },
  {
   "cell_type": "markdown",
   "id": "e9e0d8ff-7785-4f5d-8aa7-ecd5ab9ef2eb",
   "metadata": {},
   "source": [
    "We have got the coordinates of the city centers. Now we have to calculate the distance between the centers. We will do this by creating a function and passing the centroids array in it."
   ]
  },
  {
   "cell_type": "code",
   "execution_count": 9,
   "id": "ae442655-c725-4ed6-88f9-d01eed9cfb01",
   "metadata": {},
   "outputs": [],
   "source": [
    "# Calculate the distances between the centers\n",
    "def calculate_pairwise_distances(centroids):\n",
    "    l = len(centroids)\n",
    "    distance_matrix = np.zeros((l, l))\n",
    "    for i in range(l):\n",
    "        for j in range(i + 1, l):\n",
    "            distance = np.linalg.norm(centroids[i] - centroids[j])\n",
    "            distance_matrix[i, j] = distance\n",
    "            distance_matrix[j, i] = distance\n",
    "    return distance_matrix\n",
    "   \n"
   ]
  },
  {
   "cell_type": "markdown",
   "id": "5ba60176-23df-4bce-b42d-809a08bf7957",
   "metadata": {},
   "source": [
    "Finally we can print this array by creating a data frame."
   ]
  },
  {
   "cell_type": "code",
   "execution_count": 10,
   "id": "dd678326-0131-44de-9707-983ec0f59373",
   "metadata": {},
   "outputs": [],
   "source": [
    "def table(centroids,optimal_k):\n",
    "    distance_matrix_square = calculate_pairwise_distances(centroids)\n",
    "    \n",
    "    # Presenting the distances in a tabular format\n",
    "    distance_df = pd.DataFrame(distance_matrix_square, \n",
    "                               index=[f'City_{i+1}' for i in range(optimal_k)], \n",
    "                               columns=[f'City_{i+1}' for i in range(optimal_k)])\n",
    "    \n",
    "    print(distance_df)"
   ]
  },
  {
   "cell_type": "markdown",
   "id": "dcce2b26-4cf6-4c0e-ab1d-bb72055880ee",
   "metadata": {},
   "source": [
    "Now we can create a final function to process a image using all the functions created above."
   ]
  },
  {
   "cell_type": "code",
   "execution_count": 11,
   "id": "c71a1c98-287f-4aa8-a0dd-536aa28077bf",
   "metadata": {},
   "outputs": [],
   "source": [
    "def process_image(image_address):\n",
    "\n",
    "    light_coordinates=load_image(image_address)\n",
    "    \n",
    "    ssds=create_ssds_list(light_coordinates)\n",
    "    K = range(1, 11)\n",
    "\n",
    "    plot(K,ssds)\n",
    "\n",
    "    optimal_k = find_elbow_point(ssds)\n",
    "    print(f'Optimal number of clusters (k): {optimal_k}')\n",
    "    \n",
    "    #Run k-means again with the optimal k\n",
    "    labels, centroids = k_means(light_coordinates, optimal_k)\n",
    "\n",
    "    #plot clustered cities\n",
    "    plot_clusters(light_coordinates, labels, centroids, optimal_k)\n",
    "\n",
    "    print(f'Distances between city centers:')\n",
    "    table(centroids,optimal_k)"
   ]
  },
  {
   "cell_type": "markdown",
   "id": "4b815b01-6f8c-4675-b23f-6c2a2572d0e8",
   "metadata": {},
   "source": [
    "Now we can process our images one by one."
   ]
  },
  {
   "cell_type": "code",
   "execution_count": null,
   "id": "0b649dcb-a500-4fb5-955e-3637a2cdb6e1",
   "metadata": {
    "scrolled": true
   },
   "outputs": [
    {
     "ename": "FileNotFoundError",
     "evalue": "[Errno 2] No such file or directory: '1.png'",
     "output_type": "error",
     "traceback": [
      "\u001b[1;31m---------------------------------------------------------------------------\u001b[0m",
      "\u001b[1;31mFileNotFoundError\u001b[0m                         Traceback (most recent call last)",
      "Cell \u001b[1;32mIn[12], line 1\u001b[0m\n\u001b[1;32m----> 1\u001b[0m process_image(\u001b[38;5;124m'\u001b[39m\u001b[38;5;124m1.png\u001b[39m\u001b[38;5;124m'\u001b[39m)\n",
      "Cell \u001b[1;32mIn[11], line 3\u001b[0m, in \u001b[0;36mprocess_image\u001b[1;34m(image_address)\u001b[0m\n\u001b[0;32m      1\u001b[0m \u001b[38;5;28;01mdef\u001b[39;00m \u001b[38;5;21mprocess_image\u001b[39m(image_address):\n\u001b[1;32m----> 3\u001b[0m     light_coordinates\u001b[38;5;241m=\u001b[39mload_image(image_address)\n\u001b[0;32m      5\u001b[0m     ssds\u001b[38;5;241m=\u001b[39mcreate_ssds_list(light_coordinates)\n\u001b[0;32m      6\u001b[0m     K \u001b[38;5;241m=\u001b[39m \u001b[38;5;28mrange\u001b[39m(\u001b[38;5;241m1\u001b[39m, \u001b[38;5;241m11\u001b[39m)\n",
      "Cell \u001b[1;32mIn[2], line 3\u001b[0m, in \u001b[0;36mload_image\u001b[1;34m(image_address)\u001b[0m\n\u001b[0;32m      1\u001b[0m \u001b[38;5;28;01mdef\u001b[39;00m \u001b[38;5;21mload_image\u001b[39m(image_address):\n\u001b[0;32m      2\u001b[0m     \u001b[38;5;66;03m# Load the image and extract coordinates of lights\u001b[39;00m\n\u001b[1;32m----> 3\u001b[0m     image \u001b[38;5;241m=\u001b[39m Image\u001b[38;5;241m.\u001b[39mopen(image_address)\u001b[38;5;241m.\u001b[39mconvert(\u001b[38;5;124m'\u001b[39m\u001b[38;5;124mL\u001b[39m\u001b[38;5;124m'\u001b[39m)\n\u001b[0;32m      5\u001b[0m     image_array \u001b[38;5;241m=\u001b[39m np\u001b[38;5;241m.\u001b[39marray(image)\n\u001b[0;32m      6\u001b[0m     threshold \u001b[38;5;241m=\u001b[39m \u001b[38;5;241m200\u001b[39m\n",
      "File \u001b[1;32mc:\\Users\\Vansh\\anaconda3\\Lib\\site-packages\\PIL\\Image.py:3247\u001b[0m, in \u001b[0;36mopen\u001b[1;34m(fp, mode, formats)\u001b[0m\n\u001b[0;32m   3244\u001b[0m     filename \u001b[38;5;241m=\u001b[39m fp\n\u001b[0;32m   3246\u001b[0m \u001b[38;5;28;01mif\u001b[39;00m filename:\n\u001b[1;32m-> 3247\u001b[0m     fp \u001b[38;5;241m=\u001b[39m builtins\u001b[38;5;241m.\u001b[39mopen(filename, \u001b[38;5;124m\"\u001b[39m\u001b[38;5;124mrb\u001b[39m\u001b[38;5;124m\"\u001b[39m)\n\u001b[0;32m   3248\u001b[0m     exclusive_fp \u001b[38;5;241m=\u001b[39m \u001b[38;5;28;01mTrue\u001b[39;00m\n\u001b[0;32m   3250\u001b[0m \u001b[38;5;28;01mtry\u001b[39;00m:\n",
      "\u001b[1;31mFileNotFoundError\u001b[0m: [Errno 2] No such file or directory: '1.png'"
     ]
    }
   ],
   "source": [
    "process_image('img.png')"
   ]
  }
 ],
 "metadata": {
  "kernelspec": {
   "display_name": "base",
   "language": "python",
   "name": "python3"
  },
  "language_info": {
   "codemirror_mode": {
    "name": "ipython",
    "version": 3
   },
   "file_extension": ".py",
   "mimetype": "text/x-python",
   "name": "python",
   "nbconvert_exporter": "python",
   "pygments_lexer": "ipython3",
   "version": "3.11.7"
  }
 },
 "nbformat": 4,
 "nbformat_minor": 5
}
